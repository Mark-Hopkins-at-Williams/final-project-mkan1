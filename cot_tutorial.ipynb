{
 "cells": [
  {
   "cell_type": "markdown",
   "metadata": {},
   "source": [
    "# Chain-of-Thought Prompting"
   ]
  },
  {
   "cell_type": "markdown",
   "metadata": {},
   "source": [
    "This notebook explains chain-of-thought (CoT) prompting in the context of large language models (LLMs). By the end, you'll know how to benchmark any LLM on any reasoning task that might benefit from CoT prompting. Hopefully this will also improve your intuition on how to use LLMs---like ChatGPT---more effectively."
   ]
  },
  {
   "cell_type": "markdown",
   "metadata": {},
   "source": [
    "## What is Chain-of-Thought Prompting?"
   ]
  },
  {
   "cell_type": "markdown",
   "metadata": {},
   "source": [
    "In 2022, a group of Google researchers released this [paper](https://arxiv.org/pdf/2201.11903)\n",
    "\n",
    "![CoT paper](./images/cot_paper.png)\n",
    "\n",
    "which showed that including a series of intermediate reasoning steps in the prompt significantly improves the ability of LLMs to perform complex reasoning. They decided to call this series of intermediate reasoning steps a \"chain-of-thought (CoT).\" A brief demonstration of their findings is shown below."
   ]
  },
  {
   "cell_type": "markdown",
   "metadata": {},
   "source": [
    "One example of a complex reasoning task outlined in the paper is \"arithmetic reasoning,\" which are essentially just math word problems.\n",
    "\n",
    "Suppose we had the following question:\n",
    "\n",
    "<div align=\"center\", style=\"font-size:20px;\">\n",
    "\n",
    "*The cafeteria had 23 apples. If they used 20 to make lunch and bought 6 more, how many apples do they have?*\n",
    "\n",
    "</div>\n",
    "\n",
    "By doing some basic math, we can figure out that the answer is 23 - 20 + 6 = 9.\n",
    "\n",
    "Let's see if an LLM can solve it."
   ]
  },
  {
   "cell_type": "markdown",
   "metadata": {},
   "source": [
    "The code below takes our question and asks it to GPT-3 using the OpenAI API.\n",
    "\n",
    "Unlike LLMs like ChatGPT, which you might be more familiar using, the version of GPT-3 used in the original CoT paper has not been fine-tuned for human dialogue. In other words, it's not a chatbot. Instead, it'll take your prompt and continuously regurgitate the probabilistically most likely next word until you tell it to stop using the `max_tokens` parameter.\n",
    "\n",
    "Thus, the reason why we include a `Q:`, `A:`, example before asking our question of interest, is to tell that model that we want it to respond in the format `A: <answer>`."
   ]
  },
  {
   "cell_type": "code",
   "execution_count": 6,
   "metadata": {},
   "outputs": [],
   "source": [
    "from dotenv import load_dotenv\n",
    "import os\n",
    "from openai import OpenAI\n",
    "import matplotlib.pyplot as plt\n",
    "from plotting import *\n",
    "\n",
    "load_dotenv()\n",
    "# Assumes you have an OpenAI API key in your .env file\n",
    "api_key = os.getenv('API_KEY')\n",
    "client = OpenAI(\n",
    "    api_key=api_key\n",
    ")\n",
    "\n",
    "no_cot_prompt = \"\"\"\n",
    "Q: Roger has 5 tennis balls. He buys 2 more cans of tennis balls. Each can has 3 tennis balls. How many tennis balls does he have now?\n",
    "A: The answer is 11.\n",
    "Q: The cafeteria had 23 apples. If they used 20 to make lunch and bought 6 more, how many apples do they have?\n",
    "\"\"\""
   ]
  },
  {
   "cell_type": "code",
   "execution_count": null,
   "metadata": {},
   "outputs": [],
   "source": [
    "# Run inference using GPT-3\n",
    "response_no_cot = client.completions.create(\n",
    "  model=\"davinci-002\",\n",
    "  prompt=no_cot_prompt,\n",
    "  max_tokens=32,\n",
    "  temperature=0\n",
    ")\n",
    "print(response_no_cot.choices[0].text.split('\\n', 1)[0].strip())"
   ]
  },
  {
   "cell_type": "markdown",
   "metadata": {},
   "source": [
    "Yikes... looks like GPT-3 is worse at math than your average elementary schooler. But all hope isn't lost yet. Let's try including a chain-of-thought in our example question."
   ]
  },
  {
   "cell_type": "code",
   "execution_count": null,
   "metadata": {},
   "outputs": [],
   "source": [
    "cot_prompt = \"\"\"\n",
    "Q: Roger has 5 tennis balls. He buys 2 more cans of tennis balls. Each can has 3 tennis balls. How many tennis balls does he have now?\n",
    "A: Roger started with 5 balls. 2 cans of 3 tennis balls each is 6 tennis balls. 5 + 6 = 11. The answer is 11.\n",
    "Q: The cafeteria had 23 apples. If they used 20 to make lunch and bought 6 more, how many apples do they have?\n",
    "\"\"\"\n",
    "\n",
    "response_cot = client.completions.create(\n",
    "  model=\"davinci-002\",\n",
    "  prompt=cot_prompt,\n",
    "  max_tokens=128,\n",
    "  temperature=0\n",
    ")\n",
    "print(response_cot.choices[0].text.split('\\n', 1)[0].strip())"
   ]
  },
  {
   "cell_type": "markdown",
   "metadata": {},
   "source": [
    "Would you look at that. Looks like GPT-3 might be good at math after all.\n",
    "\n",
    "This is a pretty shocking result: it seems like we're able to drastically improve an LLM's ability at basic logical reasoning by simply being a bit more thoughtful with our prompt.\n",
    "\n",
    "Let's try to make this observation more rigorous."
   ]
  },
  {
   "cell_type": "markdown",
   "metadata": {},
   "source": [
    "## Evaluation\n",
    "\n",
    "We'll evaluate 3 LLMs on 3 distinct reasoning tasks. The 3 LLMs are as follows\n",
    "1. GPT-3 babbage-002 (< 1.3B parameters)\n",
    "2. GPT-3 davinci-002 (< 175B parameters)\n",
    "3. Apple's OpenELM (3B parameters)\n",
    "\n",
    "The GPT-3 babbage-002 and davinci-002 LLMs are the closest models we have to the GTP-3 text-ada-001, text-babbage-001, text-curie-001, and text-davinci-002 LLMs used in the original CoT paper (Unfortunately, OpenAI has since deprecated all those models.) Apple's OpenELM model, on other other hand, is a brand new model from April 2024 that is (as far as we know) currently unbenchmarked on all the CoT reasoning tasks.\n",
    "\n",
    "The categories of reasoning tasks are identical to the original CoT paper. They're\n",
    "1. Arithmetic reasoning: math word problems like the one we showed above\n",
    "    - We're specifcally using the [GSM-8K dataset](https://arxiv.org/abs/2110.14168)\n",
    "2. Commonsense reasoning: yes or no questions about physical and human interactions under the presumption of general background knowledge.\n",
    "    - We're specifically using the [StrategyQA dataset](https://arxiv.org/abs/2101.02235)\n",
    "3. Symbolic reasoning: questions that ask the LLM to manipulate symbols\n",
    "    - We randomly generated 1000 names and asked the LLM to manipulate the letters\n",
    "\n",
    "Let's write some code to test these 3 types of reasoning problems"
   ]
  },
  {
   "cell_type": "markdown",
   "metadata": {},
   "source": [
    "### Arithmetic Reasoning"
   ]
  },
  {
   "cell_type": "markdown",
   "metadata": {},
   "source": [
    "An example problem from the GSM-8K dataset, along with a no CoT and CoT answer is shown below:\n",
    "\n",
    "<div align=\"center\", style=\"font-size:16px; text-align:left; max-width:80%;\">\n",
    "\n",
    "*Q: If there are 3 cars in the parking lot and 2 more cars arrive, how many cars are in the parking lot?*\n",
    "\n",
    "*A (No CoT): The answer is 5.*\n",
    "\n",
    "*A (CoT): There are originally 3 cars. 2 more cars arrive. 3 + 2 = 5. The answer is 5.*\n",
    "\n",
    "</div>\n",
    "\n",
    "We'll start by loading the GSM-8K dataset and cleaning it up a little. Specifcally, we just want the `question` and `answer` columns, and the first 1000 entries."
   ]
  },
  {
   "cell_type": "code",
   "execution_count": 3,
   "metadata": {},
   "outputs": [
    {
     "data": {
      "text/html": [
       "<div>\n",
       "<style scoped>\n",
       "    .dataframe tbody tr th:only-of-type {\n",
       "        vertical-align: middle;\n",
       "    }\n",
       "\n",
       "    .dataframe tbody tr th {\n",
       "        vertical-align: top;\n",
       "    }\n",
       "\n",
       "    .dataframe thead th {\n",
       "        text-align: right;\n",
       "    }\n",
       "</style>\n",
       "<table border=\"1\" class=\"dataframe\">\n",
       "  <thead>\n",
       "    <tr style=\"text-align: right;\">\n",
       "      <th></th>\n",
       "      <th>question</th>\n",
       "      <th>answer</th>\n",
       "    </tr>\n",
       "  </thead>\n",
       "  <tbody>\n",
       "    <tr>\n",
       "      <th>0</th>\n",
       "      <td>Natalia sold clips to 48 of her friends in Apr...</td>\n",
       "      <td>Natalia sold 48/2 = &lt;&lt;48/2=24&gt;&gt;24 clips in May...</td>\n",
       "    </tr>\n",
       "    <tr>\n",
       "      <th>1</th>\n",
       "      <td>Weng earns $12 an hour for babysitting. Yester...</td>\n",
       "      <td>Weng earns 12/60 = $&lt;&lt;12/60=0.2&gt;&gt;0.2 per minut...</td>\n",
       "    </tr>\n",
       "    <tr>\n",
       "      <th>2</th>\n",
       "      <td>Betty is saving money for a new wallet which c...</td>\n",
       "      <td>In the beginning, Betty has only 100 / 2 = $&lt;&lt;...</td>\n",
       "    </tr>\n",
       "    <tr>\n",
       "      <th>3</th>\n",
       "      <td>Julie is reading a 120-page book. Yesterday, s...</td>\n",
       "      <td>Maila read 12 x 2 = &lt;&lt;12*2=24&gt;&gt;24 pages today....</td>\n",
       "    </tr>\n",
       "    <tr>\n",
       "      <th>4</th>\n",
       "      <td>James writes a 3-page letter to 2 different fr...</td>\n",
       "      <td>He writes each friend 3*2=&lt;&lt;3*2=6&gt;&gt;6 pages a w...</td>\n",
       "    </tr>\n",
       "    <tr>\n",
       "      <th>...</th>\n",
       "      <td>...</td>\n",
       "      <td>...</td>\n",
       "    </tr>\n",
       "    <tr>\n",
       "      <th>995</th>\n",
       "      <td>Josh and Anna were both born on August 17th, b...</td>\n",
       "      <td>We know that Josh must be 30 years older than ...</td>\n",
       "    </tr>\n",
       "    <tr>\n",
       "      <th>996</th>\n",
       "      <td>A club opens up and charges $20 to enter.  Jam...</td>\n",
       "      <td>He buys 2*5=&lt;&lt;2*5=10&gt;&gt;10 drinks for his friend...</td>\n",
       "    </tr>\n",
       "    <tr>\n",
       "      <th>997</th>\n",
       "      <td>Ittymangnark and Kingnook are an Eskimo couple...</td>\n",
       "      <td>If the dog eats two eyes and Oomyapeck eats 22...</td>\n",
       "    </tr>\n",
       "    <tr>\n",
       "      <th>998</th>\n",
       "      <td>Lydia has a small pool she uses to bathe her d...</td>\n",
       "      <td>With a garden hose that fills at a rate of 1.6...</td>\n",
       "    </tr>\n",
       "    <tr>\n",
       "      <th>999</th>\n",
       "      <td>Miss Grayson's class raised $50 for their fiel...</td>\n",
       "      <td>The contribution of the students amounted to $...</td>\n",
       "    </tr>\n",
       "  </tbody>\n",
       "</table>\n",
       "<p>1000 rows × 2 columns</p>\n",
       "</div>"
      ],
      "text/plain": [
       "                                              question  \\\n",
       "0    Natalia sold clips to 48 of her friends in Apr...   \n",
       "1    Weng earns $12 an hour for babysitting. Yester...   \n",
       "2    Betty is saving money for a new wallet which c...   \n",
       "3    Julie is reading a 120-page book. Yesterday, s...   \n",
       "4    James writes a 3-page letter to 2 different fr...   \n",
       "..                                                 ...   \n",
       "995  Josh and Anna were both born on August 17th, b...   \n",
       "996  A club opens up and charges $20 to enter.  Jam...   \n",
       "997  Ittymangnark and Kingnook are an Eskimo couple...   \n",
       "998  Lydia has a small pool she uses to bathe her d...   \n",
       "999  Miss Grayson's class raised $50 for their fiel...   \n",
       "\n",
       "                                                answer  \n",
       "0    Natalia sold 48/2 = <<48/2=24>>24 clips in May...  \n",
       "1    Weng earns 12/60 = $<<12/60=0.2>>0.2 per minut...  \n",
       "2    In the beginning, Betty has only 100 / 2 = $<<...  \n",
       "3    Maila read 12 x 2 = <<12*2=24>>24 pages today....  \n",
       "4    He writes each friend 3*2=<<3*2=6>>6 pages a w...  \n",
       "..                                                 ...  \n",
       "995  We know that Josh must be 30 years older than ...  \n",
       "996  He buys 2*5=<<2*5=10>>10 drinks for his friend...  \n",
       "997  If the dog eats two eyes and Oomyapeck eats 22...  \n",
       "998  With a garden hose that fills at a rate of 1.6...  \n",
       "999  The contribution of the students amounted to $...  \n",
       "\n",
       "[1000 rows x 2 columns]"
      ]
     },
     "execution_count": 3,
     "metadata": {},
     "output_type": "execute_result"
    }
   ],
   "source": [
    "import pandas as pd\n",
    "\n",
    "gsm8k_df = pd.read_csv(\"./data/gsm8k_data.csv\")\n",
    "gsm8k_df = gsm8k_df[[\"question\", \"answer\"]]\n",
    "gsm8k_df = gsm8k_df[:1000]"
   ]
  },
  {
   "cell_type": "markdown",
   "metadata": {},
   "source": [
    "For our 2 base prompts (CoT and no CoT), we use the exact same prompt as the original Wei et al. paper. It consists of 8 example question-answer pairs from the GSM-8K dataset, and chain-of-thought reasoning manually written by the Google researchers."
   ]
  },
  {
   "cell_type": "code",
   "execution_count": 4,
   "metadata": {},
   "outputs": [],
   "source": [
    "gsm8k_no_cot_prompt = \"\"\"\n",
    "Q: There are 15 trees in the grove. Grove workers will plant trees in the grove today. After they are done, there will be 21 trees. How many trees did the grove workers plant today?\n",
    "A: The answer is 6.\n",
    "Q: If there are 3 cars in the parking lot and 2 more cars arrive, how many cars are in the parking lot?\n",
    "A: The answer is 5.\n",
    "Q: Leah had 32 chocolates and her sister had 42. If they ate 35, how many pieces do they have left in total?\n",
    "A: The answer is 39.\n",
    "Q: Jason had 20 lollipops. He gave Denny some lollipops. Now Jason has 12 lollipops. How many lollipops did Jason give to Denny?\n",
    "A: The answer is 8.\n",
    "Q: Shawn has five toys. For Christmas, he got two toys each from his mom and dad. How many toys does he have now?\n",
    "A: The answer is 9.\n",
    "Q: There were nine computers in the server room. Five more computers were installed each day, from monday to thursday. How many computers are now in the server room?\n",
    "A: The answer is 29.\n",
    "Q: Michael had 58 golf balls. On tuesday, he lost 23 golf balls. On wednesday, he lost 2 more. How many golf balls did he have at the end of wednesday?\n",
    "A: The answer is 33.\n",
    "Q: Olivia has $23. She bought five bagels for $3 each. How much money does she have left?\n",
    "A: The answer is 8.\n",
    "\"\"\"\n",
    "\n",
    "gsm8k_cot_prompt = \"\"\"\n",
    "Q: There are 15 trees in the grove. Grove workers will plant trees in the grove today. After they are done, there will be 21 trees. How many trees did the grove workers plant today?\n",
    "A: There are 15 trees originally. Then there were 21 trees after some more were planted. So there must have been 21 - 15 = 6. The answer is 6.\n",
    "Q: If there are 3 cars in the parking lot and 2 more cars arrive, how many cars are in the parking lot?\n",
    "A: There are originally 3 cars. 2 more cars arrive. 3 + 2 = 5. The answer is 5.\n",
    "Q: Leah had 32 chocolates and her sister had 42. If they ate 35, how many pieces do they have left in total?\n",
    "A: Originally, Leah had 32 chocolates. Her sister had 42. So in total they had 32 + 42 = 74. After eating 35, they had 74 - 35 = 39. The answer is 39.\n",
    "Q: Jason had 20 lollipops. He gave Denny some lollipops. Now Jason has 12 lollipops. How many lollipops did Jason give to Denny?\n",
    "A: Jason started with 20 lollipops. Then he had 12 after giving some to Denny. So he gave Denny 20 - 12 = 8. The answer is 8.\n",
    "Q: Shawn has five toys. For Christmas, he got two toys each from his mom and dad. How many toys does he have now?\n",
    "A: Shawn started with 5 toys. If he got 2 toys each from his mom and dad, then that is 4 more toys. 5 + 4 = 9. The answer is 9.\n",
    "Q: There were nine computers in the server room. Five more computers were installed each day, from monday to thursday. How many computers are now in the server room?\n",
    "A: There were originally 9 computers. For each of 4 days, 5 more computers were added. So 5 * 4 = 20 computers were added. 9 + 20 is 29. The answer is 29.\n",
    "Q: Michael had 58 golf balls. On tuesday, he lost 23 golf balls. On wednesday, he lost 2 more. How many golf balls did he have at the end of wednesday?\n",
    "A: Michael started with 58 golf balls. After losing 23 on tuesday, he had 58 - 23 = 35. After losing 2 more, he had 35 - 2 = 33 golf balls. The answer is 33.\n",
    "Q: Olivia has $23. She bought five bagels for $3 each. How much money does she have left?\n",
    "A: Olivia had 23 dollars. 5 bagels for 3 dollars each will be 5 x 3 = 15 dollars. So she has 23 - 15 dollars left. 23 - 15 is 8. The answer is 8.\n",
    "\"\"\""
   ]
  },
  {
   "cell_type": "markdown",
   "metadata": {},
   "source": [
    "Next, we'll write a generic `generate_response` function thats asks an OpenAI model a user-specified prompt. The code at the end just extracts the answer from the `completions` object returned by the OpenAI API and removes any extra text generated by the model after answering the question. We'll reuse this function for the other 2 reasoning tasks as well."
   ]
  },
  {
   "cell_type": "code",
   "execution_count": null,
   "metadata": {},
   "outputs": [],
   "source": [
    "def generate_response(question, base_prompt, model):\n",
    "    prompt = base_prompt + \"Q: \" + question + \"\\n\"\n",
    "    response = client.completions.create(\n",
    "        model=model,\n",
    "        prompt=prompt,\n",
    "        max_tokens=256,\n",
    "        temperature=0.3\n",
    "    )\n",
    "    return response.choices[0].text.split('\\n', 1)[0].strip()"
   ]
  },
  {
   "cell_type": "markdown",
   "metadata": {},
   "source": [
    "Finally, we'll generate responses for all 1000 questions in our dataframe using GPT-3 babbage-002 and davinci-002 with both no CoT and CoT. We'll store the model responses in the same dataframe."
   ]
  },
  {
   "cell_type": "code",
   "execution_count": null,
   "metadata": {},
   "outputs": [],
   "source": [
    "# Generate no cot reponses for gsm8k with babbage\n",
    "gsm8k_df['babbage_no_cot'] = gsm8k_df['question'].apply(lambda q: generate_response(q, gsm8k_no_cot_prompt, \"babbage-002\"))"
   ]
  },
  {
   "cell_type": "code",
   "execution_count": null,
   "metadata": {},
   "outputs": [],
   "source": [
    "# Generate cot responses for gsm8k with babbage\n",
    "gsm8k_df['babbage_cot'] = gsm8k_df['question'].apply(lambda q: generate_response(q, gsm8k_cot_prompt, \"babbage-002\"))"
   ]
  },
  {
   "cell_type": "code",
   "execution_count": null,
   "metadata": {},
   "outputs": [],
   "source": [
    "# Generate no cot responses for gsm8k with davinci\n",
    "gsm8k_df['davinci_no_cot'] = gsm8k_df['question'].apply(lambda q: generate_response(q, gsm8k_no_cot_prompt, \"davinci-002\"))"
   ]
  },
  {
   "cell_type": "code",
   "execution_count": null,
   "metadata": {},
   "outputs": [],
   "source": [
    "# Generate cot responses for gsm8k with davinci\n",
    "gsm8k_df['davinci_cot'] = gsm8k_df['question'].apply(lambda q: generate_response(q, gsm8k_cot_prompt, \"davinci-002\"))"
   ]
  },
  {
   "cell_type": "markdown",
   "metadata": {},
   "source": [
    "For Apple's OpenELM, we perform a very similar process. However, instead of using the OpenAI API, we load the model and perform inference locally. The code can be found in the `openelm_gsm8k.py` file. You can test a different model other than OpenELM by simply changing the model name using the Hugging Face API.\n",
    "\n",
    "Finally, we compute the accuracy for all 3 models on the GSM-8K dataset in the `compute_accuracy_gpt_gsm8k.ipynb` and `compute_accuracy_openelm_gsm8k.ipynb` notebooks. And generate a plot in `plotting.py`. The final result is shown below."
   ]
  },
  {
   "cell_type": "code",
   "execution_count": 7,
   "metadata": {},
   "outputs": [
    {
     "data": {
      "image/png": "[encoded data removed]",
      "text/plain": [
       "<Figure size 1000x600 with 1 Axes>"
      ]
     },
     "metadata": {},
     "output_type": "display_data"
    }
   ],
   "source": [
    "plot_gsm8k()"
   ]
  },
  {
   "cell_type": "markdown",
   "metadata": {},
   "source": [
    "Would you look at that! It looks like model performance on math word problems improves signiicantly with CoT, especially on the larger parameter models. This data supports our one quesstion example from the start of the notebook.\n",
    "\n",
    "Let's try a different type of reasoning task now. "
   ]
  },
  {
   "cell_type": "markdown",
   "metadata": {},
   "source": [
    "### Commonsense Reasoning"
   ]
  },
  {
   "cell_type": "markdown",
   "metadata": {},
   "source": [
    "An example question from the StrategyQA dataset, along with a no CoT and CoT answer is shown below:\n",
    "\n",
    "<div align=\"center\", style=\"font-size:16px; text-align:left; max-width:80%;\">\n",
    "\n",
    "*Q: Do hamsters provide food for any animals?*\n",
    "\n",
    "*A (No CoT): Yes*\n",
    "\n",
    "*A (CoT): Hamsters are prey animals. Prey are food for predators. Thus, hamsters provide food for some animals. So the answer is yes.*\n",
    "\n",
    "</div>\n",
    "\n",
    "Again, we'll start by loading the StrategyQA dataset and doing some preprocessing."
   ]
  },
  {
   "cell_type": "code",
   "execution_count": 9,
   "metadata": {},
   "outputs": [
    {
     "data": {
      "text/html": [
       "<div>\n",
       "<style scoped>\n",
       "    .dataframe tbody tr th:only-of-type {\n",
       "        vertical-align: middle;\n",
       "    }\n",
       "\n",
       "    .dataframe tbody tr th {\n",
       "        vertical-align: top;\n",
       "    }\n",
       "\n",
       "    .dataframe thead th {\n",
       "        text-align: right;\n",
       "    }\n",
       "</style>\n",
       "<table border=\"1\" class=\"dataframe\">\n",
       "  <thead>\n",
       "    <tr style=\"text-align: right;\">\n",
       "      <th></th>\n",
       "      <th>question</th>\n",
       "      <th>answer</th>\n",
       "    </tr>\n",
       "  </thead>\n",
       "  <tbody>\n",
       "    <tr>\n",
       "      <th>0</th>\n",
       "      <td>Are more people today related to Genghis Khan ...</td>\n",
       "      <td>yes</td>\n",
       "    </tr>\n",
       "    <tr>\n",
       "      <th>1</th>\n",
       "      <td>Could the members of The Police perform lawful...</td>\n",
       "      <td>no</td>\n",
       "    </tr>\n",
       "    <tr>\n",
       "      <th>2</th>\n",
       "      <td>Would a Monoamine Oxidase candy bar cheer up a...</td>\n",
       "      <td>no</td>\n",
       "    </tr>\n",
       "    <tr>\n",
       "      <th>3</th>\n",
       "      <td>Would a dog respond to bell before Grey seal?</td>\n",
       "      <td>yes</td>\n",
       "    </tr>\n",
       "    <tr>\n",
       "      <th>4</th>\n",
       "      <td>Is a pound sterling valuable?</td>\n",
       "      <td>no</td>\n",
       "    </tr>\n",
       "    <tr>\n",
       "      <th>...</th>\n",
       "      <td>...</td>\n",
       "      <td>...</td>\n",
       "    </tr>\n",
       "    <tr>\n",
       "      <th>995</th>\n",
       "      <td>Would a Gray Whale fit easily in an above grou...</td>\n",
       "      <td>no</td>\n",
       "    </tr>\n",
       "    <tr>\n",
       "      <th>996</th>\n",
       "      <td>Do you need lactobacillus to make pickles?</td>\n",
       "      <td>no</td>\n",
       "    </tr>\n",
       "    <tr>\n",
       "      <th>997</th>\n",
       "      <td>Did Holy Saturday 2019 have special significan...</td>\n",
       "      <td>yes</td>\n",
       "    </tr>\n",
       "    <tr>\n",
       "      <th>998</th>\n",
       "      <td>Did people in Korea under Japanese Rule watch ...</td>\n",
       "      <td>no</td>\n",
       "    </tr>\n",
       "    <tr>\n",
       "      <th>999</th>\n",
       "      <td>Is shoe soup innocuous?</td>\n",
       "      <td>yes</td>\n",
       "    </tr>\n",
       "  </tbody>\n",
       "</table>\n",
       "<p>1000 rows × 2 columns</p>\n",
       "</div>"
      ],
      "text/plain": [
       "                                              question answer\n",
       "0    Are more people today related to Genghis Khan ...    yes\n",
       "1    Could the members of The Police perform lawful...     no\n",
       "2    Would a Monoamine Oxidase candy bar cheer up a...     no\n",
       "3        Would a dog respond to bell before Grey seal?    yes\n",
       "4                        Is a pound sterling valuable?     no\n",
       "..                                                 ...    ...\n",
       "995  Would a Gray Whale fit easily in an above grou...     no\n",
       "996         Do you need lactobacillus to make pickles?     no\n",
       "997  Did Holy Saturday 2019 have special significan...    yes\n",
       "998  Did people in Korea under Japanese Rule watch ...     no\n",
       "999                            Is shoe soup innocuous?    yes\n",
       "\n",
       "[1000 rows x 2 columns]"
      ]
     },
     "execution_count": 9,
     "metadata": {},
     "output_type": "execute_result"
    }
   ],
   "source": [
    "stratqa_df = pd.read_csv(\"data/strategyqa.csv\")\n",
    "stratqa_df = stratqa_df[:1000]\n",
    "stratqa_df"
   ]
  },
  {
   "cell_type": "markdown",
   "metadata": {},
   "source": [
    "Use the same no CoT and CoT base prompts as the original Wei et. al paper"
   ]
  },
  {
   "cell_type": "code",
   "execution_count": 10,
   "metadata": {},
   "outputs": [],
   "source": [
    "stratqa_no_cot_prompt = \"\"\"\n",
    "Q: Do hamsters provide food for any animals?\n",
    "A: So the answer is yes.\n",
    "Q: Could Brooke Shields succeed at University of Pennsylvania?\n",
    "A: So the answer is yes.\n",
    "Q: Yes or no: Hydrogen's atomic number squared exceeds number of Spice Girls?\n",
    "A: So the answer is no.\n",
    "Q: Yes or no: Is it common to see frost during some college commencements?\n",
    "A: So the answer is yes.\n",
    "Q: Yes or no: Could a llama birth twice during War in Vietnam (1945-46)?\n",
    "A: So the answer is no.\n",
    "Q: Yes or no: Would a pear sink in water?\n",
    "A: So the answer is no.\n",
    "\"\"\"\n",
    "\n",
    "stratqa_cot_prompt = \"\"\"\n",
    "Q: Do hamsters provide food for any animals?\n",
    "A: Hamsters are prey animals. Prey are food for predators. Thus, hamsters provide food for some animals. So the answer is yes.\n",
    "Q: Could Brooke Shields succeed at University of Pennsylvania?\n",
    "A: Brooke Shields went to Princeton University. Princeton University is about as academically rigorous as the University of Pennsylvania. Thus, Brooke Shields could also succeed at the University of Pennsylvania. So the answer is yes.\n",
    "Q: Yes or no: Hydrogen's atomic number squared exceeds number of Spice Girls?\n",
    "A: Hydrogen has an atomic number of 1. 1 squared is 1. There are 5 Spice Girls. Thus, Hydrogen’s atomic number squared is less than 5. So the answer is no.\n",
    "Q: Yes or no: Is it common to see frost during some college commencements?\n",
    "A: College commencement ceremonies can happen in December, May, and June. December is in the winter, so there can be frost. Thus, there could be frost at some commencements. So the answer is yes.\n",
    "Q: Yes or no: Could a llama birth twice during War in Vietnam (1945-46)?\n",
    "A: The War in Vietnam was 6 months. The gestation period for a llama is 11 months, which is more than 6 months. Thus, a llama could not give birth twice during the War in Vietnam. So the answer is no.\n",
    "Q: Yes or no: Would a pear sink in water?\n",
    "A: The density of a pear is about 0.6g/cm^3, which is less than water. Objects less dense than water float. Thus, a pear would float. So the answer is no.\n",
    "\"\"\""
   ]
  },
  {
   "cell_type": "markdown",
   "metadata": {},
   "source": [
    "And generate both no CoT and CoT responses with GPT-3 babbage-002 and davinci-002"
   ]
  },
  {
   "cell_type": "code",
   "execution_count": null,
   "metadata": {},
   "outputs": [],
   "source": [
    "# Generate no cot reponses for strategyqa with babbage\n",
    "stratqa_df['babbage_no_cot'] = stratqa_df['question'].apply(lambda q: generate_response(q, stratqa_no_cot_prompt, \"babbage-002\"))"
   ]
  },
  {
   "cell_type": "code",
   "execution_count": null,
   "metadata": {},
   "outputs": [],
   "source": [
    "# Generate cot reponses for strategyqa with babbage\n",
    "stratqa_df['babbage_cot'] = stratqa_df['question'].apply(lambda q: generate_response(q, stratqa_cot_prompt, \"babbage-002\"))"
   ]
  },
  {
   "cell_type": "code",
   "execution_count": null,
   "metadata": {},
   "outputs": [],
   "source": [
    "# Generate no cot reponses for strategyqa with davinci\n",
    "stratqa_df['davinci_no_cot'] = stratqa_df['question'].apply(lambda q: generate_response(q, stratqa_no_cot_prompt, \"davinci-002\"))"
   ]
  },
  {
   "cell_type": "code",
   "execution_count": null,
   "metadata": {},
   "outputs": [],
   "source": [
    "# Generate cot reponses for strategyqa with davinci\n",
    "stratqa_df['davinci_cot'] = stratqa_df['question'].apply(lambda q: generate_response(q, stratqa_cot_prompt, \"davinci-002\"))"
   ]
  },
  {
   "cell_type": "markdown",
   "metadata": {},
   "source": [
    "The code for running inference using Apple's OpenELM can be found in `openelm_strategyqa.py`. We also compute model accuracies in `compute_accuracy_gpt_strategyqa.ipynb` and `compute_accuracy_openelm_strategyqa.ipynb` to create the following graph:"
   ]
  },
  {
   "cell_type": "code",
   "execution_count": 11,
   "metadata": {},
   "outputs": [
    {
     "data": {
      "image/png": "[encoded data removed]",
      "text/plain": [
       "<Figure size 1000x600 with 1 Axes>"
      ]
     },
     "metadata": {},
     "output_type": "display_data"
    }
   ],
   "source": [
    "plot_stratqa()"
   ]
  },
  {
   "cell_type": "markdown",
   "metadata": {},
   "source": [
    "The results are a bit more mixed than with math word problems, particularly with OpenELM, where no CoT performs better than CoT (although it's close). As a reminder, StrategyQA is all \"yes\" or \"no\" questions, so 50% is actually our baseline accuracy.\n",
    "\n",
    "However, our biggest 175B parameter GPT-3 davinci-002 model still improved significantly with CoT. Perhaps CoT reasoning is an emergent ability that improves with increased model scale?\n",
    "\n",
    "Let's try analyzing one more reasoning task."
   ]
  },
  {
   "cell_type": "markdown",
   "metadata": {},
   "source": [
    "### Symbolic Reasoning"
   ]
  },
  {
   "cell_type": "markdown",
   "metadata": {},
   "source": [
    "To test symbolic reasoning, we randomly generated 1000 names and asked the model to concat the last letter of each word in the name. 500 of these names consist of 2 words and 500 consist of 4 words. We'll explain why in a second.\n",
    "\n",
    "An example question, along with a no CoT and CoT answer is shown below:\n",
    "\n",
    "<div align=\"center\", style=\"font-size:16px; text-align:left; max-width:80%;\">\n",
    "\n",
    "*Q: Take the last letters of the words in \"Elon Musk\" and concatenate them.*\n",
    "\n",
    "*A (No CoT): The answer is nk.*\n",
    "\n",
    "*A (CoT): The last letter of \"Elon\" is \"n\". The last letter of \"Musk\" is \"k\". Concatenating them is \"nk\". The answer is nk*\n",
    "\n",
    "</div>\n",
    "\n",
    "Lets load in the datasets one last time."
   ]
  },
  {
   "cell_type": "code",
   "execution_count": 14,
   "metadata": {},
   "outputs": [
    {
     "data": {
      "text/html": [
       "<div>\n",
       "<style scoped>\n",
       "    .dataframe tbody tr th:only-of-type {\n",
       "        vertical-align: middle;\n",
       "    }\n",
       "\n",
       "    .dataframe tbody tr th {\n",
       "        vertical-align: top;\n",
       "    }\n",
       "\n",
       "    .dataframe thead th {\n",
       "        text-align: right;\n",
       "    }\n",
       "</style>\n",
       "<table border=\"1\" class=\"dataframe\">\n",
       "  <thead>\n",
       "    <tr style=\"text-align: right;\">\n",
       "      <th></th>\n",
       "      <th>Name</th>\n",
       "      <th>Answer</th>\n",
       "    </tr>\n",
       "  </thead>\n",
       "  <tbody>\n",
       "    <tr>\n",
       "      <th>0</th>\n",
       "      <td>SHEILA PUCKETT</td>\n",
       "      <td>AT</td>\n",
       "    </tr>\n",
       "    <tr>\n",
       "      <th>1</th>\n",
       "      <td>TAMMY ZAMORA</td>\n",
       "      <td>YA</td>\n",
       "    </tr>\n",
       "    <tr>\n",
       "      <th>2</th>\n",
       "      <td>PEARL DICKERSON</td>\n",
       "      <td>LN</td>\n",
       "    </tr>\n",
       "    <tr>\n",
       "      <th>3</th>\n",
       "      <td>EVA AYALA</td>\n",
       "      <td>AA</td>\n",
       "    </tr>\n",
       "    <tr>\n",
       "      <th>4</th>\n",
       "      <td>DANIELLE SANFORD</td>\n",
       "      <td>ED</td>\n",
       "    </tr>\n",
       "    <tr>\n",
       "      <th>...</th>\n",
       "      <td>...</td>\n",
       "      <td>...</td>\n",
       "    </tr>\n",
       "    <tr>\n",
       "      <th>495</th>\n",
       "      <td>MARIE RAMOS</td>\n",
       "      <td>ES</td>\n",
       "    </tr>\n",
       "    <tr>\n",
       "      <th>496</th>\n",
       "      <td>CARLA HOGAN</td>\n",
       "      <td>AN</td>\n",
       "    </tr>\n",
       "    <tr>\n",
       "      <th>497</th>\n",
       "      <td>STEVE ODOM</td>\n",
       "      <td>EM</td>\n",
       "    </tr>\n",
       "    <tr>\n",
       "      <th>498</th>\n",
       "      <td>ALBERTO CUNNINGHAM</td>\n",
       "      <td>OM</td>\n",
       "    </tr>\n",
       "    <tr>\n",
       "      <th>499</th>\n",
       "      <td>WILLIE HOFFMAN</td>\n",
       "      <td>EN</td>\n",
       "    </tr>\n",
       "  </tbody>\n",
       "</table>\n",
       "<p>500 rows × 2 columns</p>\n",
       "</div>"
      ],
      "text/plain": [
       "                   Name Answer\n",
       "0        SHEILA PUCKETT     AT\n",
       "1          TAMMY ZAMORA     YA\n",
       "2       PEARL DICKERSON     LN\n",
       "3             EVA AYALA     AA\n",
       "4      DANIELLE SANFORD     ED\n",
       "..                  ...    ...\n",
       "495         MARIE RAMOS     ES\n",
       "496         CARLA HOGAN     AN\n",
       "497          STEVE ODOM     EM\n",
       "498  ALBERTO CUNNINGHAM     OM\n",
       "499      WILLIE HOFFMAN     EN\n",
       "\n",
       "[500 rows x 2 columns]"
      ]
     },
     "execution_count": 14,
     "metadata": {},
     "output_type": "execute_result"
    }
   ],
   "source": [
    "names_df = pd.read_csv(\"data/Random Names.csv\")\n",
    "names_OOD_df = pd.read_csv(\"data/Random Names OOD.csv\")\n",
    "names_df"
   ]
  },
  {
   "cell_type": "code",
   "execution_count": 13,
   "metadata": {},
   "outputs": [
    {
     "data": {
      "text/html": [
       "<div>\n",
       "<style scoped>\n",
       "    .dataframe tbody tr th:only-of-type {\n",
       "        vertical-align: middle;\n",
       "    }\n",
       "\n",
       "    .dataframe tbody tr th {\n",
       "        vertical-align: top;\n",
       "    }\n",
       "\n",
       "    .dataframe thead th {\n",
       "        text-align: right;\n",
       "    }\n",
       "</style>\n",
       "<table border=\"1\" class=\"dataframe\">\n",
       "  <thead>\n",
       "    <tr style=\"text-align: right;\">\n",
       "      <th></th>\n",
       "      <th>Name</th>\n",
       "      <th>Answer</th>\n",
       "    </tr>\n",
       "  </thead>\n",
       "  <tbody>\n",
       "    <tr>\n",
       "      <th>0</th>\n",
       "      <td>CRAIG GUY STACY SANTANA</td>\n",
       "      <td>GYYA</td>\n",
       "    </tr>\n",
       "    <tr>\n",
       "      <th>1</th>\n",
       "      <td>GERALD MCKNIGHT KATRINA CARPENTER</td>\n",
       "      <td>DTAR</td>\n",
       "    </tr>\n",
       "    <tr>\n",
       "      <th>2</th>\n",
       "      <td>LOIS JACKSON BRENDA SHAW</td>\n",
       "      <td>SNAW</td>\n",
       "    </tr>\n",
       "    <tr>\n",
       "      <th>3</th>\n",
       "      <td>DEBORAH JONES CAROL CAIN</td>\n",
       "      <td>HSLN</td>\n",
       "    </tr>\n",
       "    <tr>\n",
       "      <th>4</th>\n",
       "      <td>MARCUS DOMINGUEZ JESSE SEXTON</td>\n",
       "      <td>SZEN</td>\n",
       "    </tr>\n",
       "    <tr>\n",
       "      <th>...</th>\n",
       "      <td>...</td>\n",
       "      <td>...</td>\n",
       "    </tr>\n",
       "    <tr>\n",
       "      <th>495</th>\n",
       "      <td>LISA DRAKE TAMARA SCHNEIDER</td>\n",
       "      <td>AEAR</td>\n",
       "    </tr>\n",
       "    <tr>\n",
       "      <th>496</th>\n",
       "      <td>ANTONIO FRANKS TERRY BLEVINS</td>\n",
       "      <td>OSYS</td>\n",
       "    </tr>\n",
       "    <tr>\n",
       "      <th>497</th>\n",
       "      <td>ANTHONY HUGHES IRENE RAY</td>\n",
       "      <td>YSEY</td>\n",
       "    </tr>\n",
       "    <tr>\n",
       "      <th>498</th>\n",
       "      <td>ROLAND KERR SHERRY BOYER</td>\n",
       "      <td>DRYR</td>\n",
       "    </tr>\n",
       "    <tr>\n",
       "      <th>499</th>\n",
       "      <td>JESSICA MOON ALICIA FORD</td>\n",
       "      <td>ANAD</td>\n",
       "    </tr>\n",
       "  </tbody>\n",
       "</table>\n",
       "<p>500 rows × 2 columns</p>\n",
       "</div>"
      ],
      "text/plain": [
       "                                  Name Answer\n",
       "0              CRAIG GUY STACY SANTANA   GYYA\n",
       "1    GERALD MCKNIGHT KATRINA CARPENTER   DTAR\n",
       "2             LOIS JACKSON BRENDA SHAW   SNAW\n",
       "3             DEBORAH JONES CAROL CAIN   HSLN\n",
       "4        MARCUS DOMINGUEZ JESSE SEXTON   SZEN\n",
       "..                                 ...    ...\n",
       "495        LISA DRAKE TAMARA SCHNEIDER   AEAR\n",
       "496       ANTONIO FRANKS TERRY BLEVINS   OSYS\n",
       "497           ANTHONY HUGHES IRENE RAY   YSEY\n",
       "498           ROLAND KERR SHERRY BOYER   DRYR\n",
       "499           JESSICA MOON ALICIA FORD   ANAD\n",
       "\n",
       "[500 rows x 2 columns]"
      ]
     },
     "execution_count": 13,
     "metadata": {},
     "output_type": "execute_result"
    }
   ],
   "source": [
    "names_OOD_df"
   ]
  },
  {
   "cell_type": "markdown",
   "metadata": {},
   "source": [
    "Along with the base prompts used by Wei et al."
   ]
  },
  {
   "cell_type": "code",
   "execution_count": 15,
   "metadata": {},
   "outputs": [],
   "source": [
    "names_cot_prompt = \"\"\"\n",
    "Q: Take the last letters of the words in \"Elon Musk\" and concatenate them.\n",
    "A: The last letter of \"Elon\" is \"n\". The last letter of \"Musk\" is \"k\". Concatenating them is \"nk\". The answer is nk.\n",
    "Q: Take the last letters of the words in \"Larry Page\" and concatenate them.\n",
    "A: The last letter of \"Larry\" is \"y\". The last letter of \"Page\" is \"e\". Concatenating them is \"ye\". The answer is ye.\n",
    "Q: Take the last letters of the words in \"Sergey Brin\" and concatenate them.\n",
    "A: The last letter of \"Sergey\" is \"y\". The last letter of \"Brin\" is \"n\". Concatenating them is \"yn\". The answer is yn.\n",
    "Q: Take the last letters of the words in \"Bill Gates\" and concatenate them.\n",
    "A: The last letter of \"Bill\" is \"l\". The last letter of \"Gates\" is \"s\". Concatenating them is \"ls\". The answer is ls.\n",
    "\"\"\"\n",
    "\n",
    "names_no_cot_prompt = \"\"\"\n",
    "Q: Take the last letters of the words in \"Elon Musk\" and concatenate them.\n",
    "A: The answer is nk.\n",
    "Q: Take the last letters of the words in \"Larry Page\" and concatenate them.\n",
    "A: The answer is ye.\n",
    "Q: Take the last letters of the words in \"Sergey Brin\" and concatenate them.\n",
    "A: The answer is yn.\n",
    "Q: Take the last letters of the words in \"Bill Gates\" and concatenate them.\n",
    "A: The answer is ls.\n",
    "\"\"\""
   ]
  },
  {
   "cell_type": "markdown",
   "metadata": {},
   "source": [
    "Since the examples in our prompts deterministically tell the model how to solve this task for 2 word names, we create a second out-of-domain (OOD) dataset consisting of 4 words names to see how well the model generalizes. Put differently, we want to make sure our model's reasoning abilities have improved, and not that it's just learned how to do one very niche task from the prompt.\n",
    "\n",
    "We'll perform some more data preprocessing so we can use our same trusty `generate_response` function from the beginning"
   ]
  },
  {
   "cell_type": "code",
   "execution_count": 16,
   "metadata": {},
   "outputs": [],
   "source": [
    "def convert_name_to_question(name):\n",
    "    return f\"Take the last letters of the words in “{name}” and concatenate them.\""
   ]
  },
  {
   "cell_type": "code",
   "execution_count": 17,
   "metadata": {},
   "outputs": [],
   "source": [
    "names_df.rename(columns={'Name': 'question'}, inplace=True)\n",
    "names_df.rename(columns={'Answer': 'answer'}, inplace=True)\n",
    "\n",
    "names_OOD_df.rename(columns={'Name': 'question'}, inplace=True)\n",
    "names_OOD_df.rename(columns={'Answer': 'answer'}, inplace=True)\n",
    "\n",
    "names_df['question'] = names_df['question'].apply(convert_name_to_question)\n",
    "names_OOD_df['question'] = names_OOD_df['question'].apply(convert_name_to_question)"
   ]
  },
  {
   "cell_type": "markdown",
   "metadata": {},
   "source": [
    "And now we're ready to do inference using GPT-3 again"
   ]
  },
  {
   "cell_type": "code",
   "execution_count": null,
   "metadata": {},
   "outputs": [],
   "source": [
    "# Generate no cot reponses for in domain names with babbage\n",
    "names_df['babbage_no_cot'] = names_df['question'].apply(lambda q: generate_response(q, names_no_cot_prompt, \"babbage-002\"))"
   ]
  },
  {
   "cell_type": "code",
   "execution_count": null,
   "metadata": {},
   "outputs": [],
   "source": [
    "# Generate cot reponses for in domain names with babbage\n",
    "names_df['babbage_cot'] = names_df['question'].apply(lambda q: generate_response(q, names_cot_prompt, \"babbage-002\"))"
   ]
  },
  {
   "cell_type": "code",
   "execution_count": null,
   "metadata": {},
   "outputs": [],
   "source": [
    "# Generate no cot reponses for in domain names with davinci\n",
    "names_df['davinci_no_cot'] = names_df['question'].apply(lambda q: generate_response(q, names_no_cot_prompt, \"davinci-002\"))"
   ]
  },
  {
   "cell_type": "code",
   "execution_count": null,
   "metadata": {},
   "outputs": [],
   "source": [
    "# Generate cot reponses for in domain names with davinci\n",
    "names_df['davinci_cot'] = names_df['question'].apply(lambda q: generate_response(q, names_cot_prompt, \"davinci-002\"))"
   ]
  },
  {
   "cell_type": "code",
   "execution_count": null,
   "metadata": {},
   "outputs": [],
   "source": [
    "# Generate no cot reponses for out of domain names with babbage\n",
    "names_OOD_df['babbage_no_cot'] = names_OOD_df['question'].apply(lambda q: generate_response(q, names_no_cot_prompt, \"babbage-002\"))"
   ]
  },
  {
   "cell_type": "code",
   "execution_count": null,
   "metadata": {},
   "outputs": [],
   "source": [
    "# Generate cot reponses for out of domain names with babbage\n",
    "names_OOD_df['babbage_cot'] = names_OOD_df['question'].apply(lambda q: generate_response(q, names_cot_prompt, \"babbage-002\"))"
   ]
  },
  {
   "cell_type": "code",
   "execution_count": null,
   "metadata": {},
   "outputs": [],
   "source": [
    "# Generate no cot reponses for out of domain names with davinci\n",
    "names_OOD_df['davinci_no_cot'] = names_OOD_df['question'].apply(lambda q: generate_response(q, names_no_cot_prompt, \"davinci-002\"))"
   ]
  },
  {
   "cell_type": "code",
   "execution_count": null,
   "metadata": {},
   "outputs": [],
   "source": [
    "# Generate cot reponses for out of domain names with davinci\n",
    "names_OOD_df['davinci_cot'] = names_OOD_df['question'].apply(lambda q: generate_response(q, names_cot_prompt, \"davinci-002\"))"
   ]
  },
  {
   "cell_type": "markdown",
   "metadata": {},
   "source": [
    "Like before, the code for doing inference with OpenELM is in `openelm_in_domain.py` and `openelm_out_domain.py`. The code for computing accuracies can also be found in the `compute_accuracy` folder.\n",
    "\n",
    "Here are our results:"
   ]
  },
  {
   "cell_type": "code",
   "execution_count": 18,
   "metadata": {},
   "outputs": [
    {
     "data": {
      "image/png": "[encoded data removed]",
      "text/plain": [
       "<Figure size 1000x600 with 1 Axes>"
      ]
     },
     "metadata": {},
     "output_type": "display_data"
    }
   ],
   "source": [
    "plot_in_domain()"
   ]
  },
  {
   "cell_type": "code",
   "execution_count": 19,
   "metadata": {},
   "outputs": [
    {
     "data": {
      "image/png": "[encoded data removed]",
      "text/plain": [
       "<Figure size 1000x600 with 1 Axes>"
      ]
     },
     "metadata": {},
     "output_type": "display_data"
    }
   ],
   "source": [
    "plot_out_domain()"
   ]
  },
  {
   "cell_type": "markdown",
   "metadata": {},
   "source": [
    "This might be our most interesting result yet. Last letter concatenation seems to be a skill that's completely absent in all models without CoT. However, if we add CoT, althought the smaller 1B and 3B parameter models still peform quite poorly, our biggest 175B model achieves near perfect accuracy in the in-domain 2 letter concatentaion, and a very respectable 30% accuracy in the out-of-domain 4 letter concatenation.\n",
    "\n",
    "Who would've thought CoT could be so impactful?"
   ]
  },
  {
   "cell_type": "markdown",
   "metadata": {},
   "source": [
    "## Conclusion"
   ]
  },
  {
   "cell_type": "markdown",
   "metadata": {},
   "source": [
    "Based on these results, it seems like you can significantly improve an LLM's ability to solve reasoning tasks by simply being a bit more thoughtful about your prompt.\n",
    "\n",
    "Furthemermore, one of the lasting impacts of the original CoT paper, is that the GSM-8K dataset is now a standard benchmark used by all tech companies whenever they launch a new LLM. For example, here's Meta's new Llama 3 they released a few weeks ago:\n",
    "\n",
    "![Llama 3 Benchmarks](./images/llama_benchmarks.png)\n",
    "\n",
    "And now you all know how to compute this exact benchmark.\n",
    "\n",
    "*Note: our working theory for why Apple decided to leave their OpenELM model unbenchmarked on GSM-8K is because it sucks on it.*"
   ]
  },
  {
   "cell_type": "markdown",
   "metadata": {},
   "source": [
    "However, we'd be remiss not to mention some limitations with CoT that've appeared since the original paper in 2022.\n",
    "\n",
    "First, although CoT's ability to improve model performance on reasoning tasks has been generally undisputed since the original Google research paper came out, there have been some [papers](https://arxiv.org/abs/2305.04388) that question our ability to make any interpretability statements from CoT reasoning. The paper we've linked above, for example, finds that if you have a reasoning task with multiple choice answers, and you rearrange your example answers to all be 'A', then the model will say the answer to any new question is also 'A' with high probability, and make up a CoT to support it. In other words, it's unclear whether or not the model is actually displaying any reasoning ability in its CoT: it could just be making stuff up.\n",
    "\n",
    "Second, recent [papers](https://arxiv.org/pdf/2405.00332) have found that new models are overfit on benchmarks like GSM-8K because theyre likely in the training data (the biggest LLMs are trained on the whole internet). Although this doesn't directly undermine the perceived benefits of CoT, it's certainly worth noting."
   ]
  },
  {
   "cell_type": "markdown",
   "metadata": {},
   "source": [
    "That's it for now! Hopefully this notebook served as a comprehensive introduction to chain-of-thought prompting and improved your intuition on how to best use LLMs."
   ]
  }
 ],
 "metadata": {
  "kernelspec": {
   "display_name": "base",
   "language": "python",
   "name": "python3"
  },
  "language_info": {
   "codemirror_mode": {
    "name": "ipython",
    "version": 3
   },
   "file_extension": ".py",
   "mimetype": "text/x-python",
   "name": "python",
   "nbconvert_exporter": "python",
   "pygments_lexer": "ipython3",
   "version": "3.12.2"
  }
 },
 "nbformat": 4,
 "nbformat_minor": 2
}
