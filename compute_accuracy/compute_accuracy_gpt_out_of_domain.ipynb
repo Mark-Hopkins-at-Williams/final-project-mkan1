{
 "cells": [
  {
   "cell_type": "code",
   "execution_count": 1,
   "metadata": {},
   "outputs": [],
   "source": [
    "from pathlib import Path\n",
    "import re\n",
    "import pandas as pd"
   ]
  },
  {
   "cell_type": "code",
   "execution_count": 2,
   "metadata": {},
   "outputs": [],
   "source": [
    "df = pd.read_csv(\"out_of_domain_gpt_responses.csv\")"
   ]
  },
  {
   "cell_type": "code",
   "execution_count": 3,
   "metadata": {},
   "outputs": [],
   "source": [
    "for col in df.columns:\n",
    "    df[col] = df[col].str.lower()"
   ]
  },
  {
   "cell_type": "code",
   "execution_count": 4,
   "metadata": {},
   "outputs": [
    {
     "data": {
      "text/html": [
       "<div>\n",
       "<style scoped>\n",
       "    .dataframe tbody tr th:only-of-type {\n",
       "        vertical-align: middle;\n",
       "    }\n",
       "\n",
       "    .dataframe tbody tr th {\n",
       "        vertical-align: top;\n",
       "    }\n",
       "\n",
       "    .dataframe thead th {\n",
       "        text-align: right;\n",
       "    }\n",
       "</style>\n",
       "<table border=\"1\" class=\"dataframe\">\n",
       "  <thead>\n",
       "    <tr style=\"text-align: right;\">\n",
       "      <th></th>\n",
       "      <th>question</th>\n",
       "      <th>answer</th>\n",
       "      <th>babbage_no_cot</th>\n",
       "      <th>babbage_cot</th>\n",
       "      <th>davinci_no_cot</th>\n",
       "      <th>davinci_cot</th>\n",
       "    </tr>\n",
       "  </thead>\n",
       "  <tbody>\n",
       "    <tr>\n",
       "      <th>0</th>\n",
       "      <td>take the last letters of the words in “craig g...</td>\n",
       "      <td>gyya</td>\n",
       "      <td>a: the answer is cgs.</td>\n",
       "      <td>a: the last letter of \"craig\" is \"r\". the last...</td>\n",
       "      <td>a: the answer is y.</td>\n",
       "      <td>a: the last letter of “craig” is “g”. the last...</td>\n",
       "    </tr>\n",
       "    <tr>\n",
       "      <th>1</th>\n",
       "      <td>take the last letters of the words in “gerald ...</td>\n",
       "      <td>dtar</td>\n",
       "      <td>a: the answer is gmk.</td>\n",
       "      <td>a: the last letter of \"gerald\" is \"g\". the las...</td>\n",
       "      <td>a: the answer is kck.</td>\n",
       "      <td>a: the last letter of “gerald” is “d”. the las...</td>\n",
       "    </tr>\n",
       "    <tr>\n",
       "      <th>2</th>\n",
       "      <td>take the last letters of the words in “lois ja...</td>\n",
       "      <td>snaw</td>\n",
       "      <td>a: the answer is ljs.</td>\n",
       "      <td>a: the last letter of \"lois\" is \"l\". the last ...</td>\n",
       "      <td>a: the answer is lsbs.</td>\n",
       "      <td>a: the last letter of \"lois\" is \"s\". the last ...</td>\n",
       "    </tr>\n",
       "    <tr>\n",
       "      <th>3</th>\n",
       "      <td>take the last letters of the words in “deborah...</td>\n",
       "      <td>hsln</td>\n",
       "      <td>a: the answer is djc.</td>\n",
       "      <td>a: the last letter of \"deborah\" is \"d\". the la...</td>\n",
       "      <td>a: the answer is y.</td>\n",
       "      <td>a: the last letter of \"deborah\" is \"h\". the la...</td>\n",
       "    </tr>\n",
       "    <tr>\n",
       "      <th>4</th>\n",
       "      <td>take the last letters of the words in “marcus ...</td>\n",
       "      <td>szen</td>\n",
       "      <td>a: the answer is nmdj.</td>\n",
       "      <td>a: the last letter of \"marcus\" is \"m\". the las...</td>\n",
       "      <td>a: the answer is yx.</td>\n",
       "      <td>a: the last letter of “marcus” is “s”. the las...</td>\n",
       "    </tr>\n",
       "  </tbody>\n",
       "</table>\n",
       "</div>"
      ],
      "text/plain": [
       "                                            question answer  \\\n",
       "0  take the last letters of the words in “craig g...   gyya   \n",
       "1  take the last letters of the words in “gerald ...   dtar   \n",
       "2  take the last letters of the words in “lois ja...   snaw   \n",
       "3  take the last letters of the words in “deborah...   hsln   \n",
       "4  take the last letters of the words in “marcus ...   szen   \n",
       "\n",
       "           babbage_no_cot                                        babbage_cot  \\\n",
       "0   a: the answer is cgs.  a: the last letter of \"craig\" is \"r\". the last...   \n",
       "1   a: the answer is gmk.  a: the last letter of \"gerald\" is \"g\". the las...   \n",
       "2   a: the answer is ljs.  a: the last letter of \"lois\" is \"l\". the last ...   \n",
       "3   a: the answer is djc.  a: the last letter of \"deborah\" is \"d\". the la...   \n",
       "4  a: the answer is nmdj.  a: the last letter of \"marcus\" is \"m\". the las...   \n",
       "\n",
       "           davinci_no_cot                                        davinci_cot  \n",
       "0     a: the answer is y.  a: the last letter of “craig” is “g”. the last...  \n",
       "1   a: the answer is kck.  a: the last letter of “gerald” is “d”. the las...  \n",
       "2  a: the answer is lsbs.  a: the last letter of \"lois\" is \"s\". the last ...  \n",
       "3     a: the answer is y.  a: the last letter of \"deborah\" is \"h\". the la...  \n",
       "4    a: the answer is yx.  a: the last letter of “marcus” is “s”. the las...  "
      ]
     },
     "execution_count": 4,
     "metadata": {},
     "output_type": "execute_result"
    }
   ],
   "source": [
    "df.head()"
   ]
  },
  {
   "cell_type": "code",
   "execution_count": 5,
   "metadata": {},
   "outputs": [],
   "source": [
    "def compute_accuracy(df, no_cot_col, cot_col, answer_col):\n",
    "    no_cot_answers = df[no_cot_col].to_list()\n",
    "    cot_answers = df[cot_col].to_list()\n",
    "    answers = df[answer_col].str.lower()\n",
    "    answers = answers.to_list()\n",
    "    answers = zip(no_cot_answers, cot_answers, answers)\n",
    "    answers = list(answers)\n",
    "    answers = [[str(a[0]), str(a[1]), str(a[2])] for a in answers]\n",
    "    answers = [\n",
    "        [\n",
    "            re.findall(r\"\\b(\" + answer[2] + r\")\\b\", answer[0]),\n",
    "            re.findall(r\"\\b(\" + answer[2] + r\")\\b\", answer[1]),\n",
    "            answer[2],\n",
    "        ]\n",
    "        for answer in answers\n",
    "    ]\n",
    "    answers = [[len(answer[0]), len(answer[1]), answer[2]] for answer in answers]\n",
    "    no_cot = 0\n",
    "    cot = 0\n",
    "    for a, b, c in answers:\n",
    "        if a != 0:\n",
    "            no_cot += 1\n",
    "        if b != 0:\n",
    "            cot += 1\n",
    "\n",
    "    no_cot_percent = no_cot / len(answers) * 100\n",
    "    cot_percent = cot / len(answers) * 100\n",
    "\n",
    "    print(f\"No COT accuracy: {no_cot_percent}%\")\n",
    "    print(f\"COT accuracy: {cot_percent}%\")"
   ]
  },
  {
   "cell_type": "code",
   "execution_count": 6,
   "metadata": {},
   "outputs": [
    {
     "name": "stdout",
     "output_type": "stream",
     "text": [
      "No COT accuracy: 0.0%\n",
      "COT accuracy: 0.0%\n"
     ]
    }
   ],
   "source": [
    "compute_accuracy(df, \"babbage_no_cot\", \"babbage_cot\", \"answer\")"
   ]
  },
  {
   "cell_type": "code",
   "execution_count": 7,
   "metadata": {},
   "outputs": [
    {
     "name": "stdout",
     "output_type": "stream",
     "text": [
      "No COT accuracy: 0.0%\n",
      "COT accuracy: 30.2%\n"
     ]
    }
   ],
   "source": [
    "compute_accuracy(df, \"davinci_no_cot\", \"davinci_cot\", \"answer\")"
   ]
  },
  {
   "cell_type": "code",
   "execution_count": null,
   "metadata": {},
   "outputs": [],
   "source": []
  }
 ],
 "metadata": {
  "kernelspec": {
   "display_name": "ml",
   "language": "python",
   "name": "python3"
  },
  "language_info": {
   "codemirror_mode": {
    "name": "ipython",
    "version": 3
   },
   "file_extension": ".py",
   "mimetype": "text/x-python",
   "name": "python",
   "nbconvert_exporter": "python",
   "pygments_lexer": "ipython3",
   "version": "3.11.0"
  }
 },
 "nbformat": 4,
 "nbformat_minor": 2
}
