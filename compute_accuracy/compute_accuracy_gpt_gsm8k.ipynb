{
 "cells": [
  {
   "cell_type": "code",
   "execution_count": 2,
   "metadata": {},
   "outputs": [],
   "source": [
    "from pathlib import Path\n",
    "import re\n",
    "import pandas as pd"
   ]
  },
  {
   "cell_type": "code",
   "execution_count": 11,
   "metadata": {},
   "outputs": [],
   "source": [
    "df = pd.read_csv('gsm8k_with_gpt_responses.csv')"
   ]
  },
  {
   "cell_type": "code",
   "execution_count": 35,
   "metadata": {},
   "outputs": [
    {
     "data": {
      "text/plain": [
       "0                  In total, she sold 48 + 24 = 72 clips\n",
       "1                                       The answer is 10\n",
       "2                                       The answer is 55\n",
       "3                                       The answer is 48\n",
       "4             So he writes 3 x 2 x 52 = 312 pages a year\n",
       "                             ...                        \n",
       "995                    Anna was 58 when they got married\n",
       "996                                                    8\n",
       "997      But after they have split the fish, they giv...\n",
       "998                                            4 minutes\n",
       "999                                    The answer is -40\n",
       "Name: davinci_cot, Length: 1000, dtype: object"
      ]
     },
     "execution_count": 35,
     "metadata": {},
     "output_type": "execute_result"
    }
   ],
   "source": [
    "df[\"davinci_cot\"].apply(lambda x: x.split(\".\")[-2])"
   ]
  },
  {
   "cell_type": "code",
   "execution_count": 10,
   "metadata": {},
   "outputs": [
    {
     "data": {
      "text/plain": [
       "'The answer is $36.00.'"
      ]
     },
     "execution_count": 10,
     "metadata": {},
     "output_type": "execute_result"
    }
   ],
   "source": [
    "df[\"babbage_cot\"].apply(lambda x: x.split(\". \")[-1])[9]"
   ]
  },
  {
   "cell_type": "code",
   "execution_count": 18,
   "metadata": {},
   "outputs": [
    {
     "data": {
      "text/plain": [
       "[0        [The answer is 24.]\n",
       " 1         [The answer is 5.]\n",
       " 2        [The answer is 20.]\n",
       " 3        [The answer is 24.]\n",
       " 4        [The answer is 52.]\n",
       "                ...          \n",
       " 995      [The answer is 65.]\n",
       " 996    [The answer is  $63.]\n",
       " 997      [The answer is 10.]\n",
       " 998       [The answer is 5.]\n",
       " 999      [The answer is $3.]\n",
       " Name: babbage_no_cot, Length: 1000, dtype: object,\n",
       " 0              [The answer is 24.]\n",
       " 1             [The answer is 550.]\n",
       " 2      [The answer is 50 dollars.]\n",
       " 3             [The answer is 108.]\n",
       " 4                               []\n",
       "                   ...             \n",
       " 995            [The answer is 34.]\n",
       " 996            [The answer is 70.]\n",
       " 997                             []\n",
       " 998             [The answer is 6.]\n",
       " 999           [The answer is 100.]\n",
       " Name: babbage_cot, Length: 1000, dtype: object,\n",
       " 0        [The answer is 72.]\n",
       " 1        [The answer is $6.]\n",
       " 2        [The answer is 25.]\n",
       " 3        [The answer is 60.]\n",
       " 4       [The answer is 624.]\n",
       "                ...          \n",
       " 995      [The answer is 22.]\n",
       " 996    [The answer is $116.]\n",
       " 997       [The answer is 5.]\n",
       " 998    [The answer is 37.5.]\n",
       " 999      [The answer is $5.]\n",
       " Name: davinci_no_cot, Length: 1000, dtype: object,\n",
       " 0                                 []\n",
       " 1                [The answer is 10.]\n",
       " 2                [The answer is 55.]\n",
       " 3                [The answer is 48.]\n",
       " 4                                 []\n",
       "                    ...              \n",
       " 995                               []\n",
       " 996            [The answer is 99.8.]\n",
       " 997                               []\n",
       " 998    [The answer is 37.4 minutes.]\n",
       " 999             [The answer is -40.]\n",
       " Name: davinci_cot, Length: 1000, dtype: object]"
      ]
     },
     "execution_count": 18,
     "metadata": {},
     "output_type": "execute_result"
    }
   ],
   "source": [
    "[df[col].str.findall(r\"The answer is.+$\") for col in [\"babbage_no_cot\", \"babbage_cot\", \"davinci_no_cot\", \"davinci_cot\"]]"
   ]
  },
  {
   "cell_type": "code",
   "execution_count": 12,
   "metadata": {},
   "outputs": [],
   "source": [
    "responses = pd.DataFrame(columns=[\"babbage_no_cot\", \"babbage_cot\", \"davinci_no_cot\", \"davinci_cot\"])"
   ]
  },
  {
   "cell_type": "code",
   "execution_count": 13,
   "metadata": {},
   "outputs": [],
   "source": [
    "responses[\"babbage_no_cot\"] = df[\"babbage_no_cot\"].str.findall(r\"The answer is.+$\")\n",
    "responses[\"babbage_no_cot\"] = responses[\"babbage_no_cot\"].apply(lambda x: x[0] if x else \"\")\n",
    "responses[\"babbage_cot\"] = df[\"babbage_cot\"].apply(lambda x: x.split(\". \")[-1])\n",
    "responses[\"davinci_no_cot\"] = df[\"davinci_no_cot\"].str.findall(r\"The answer is.+$\")\n",
    "responses[\"davinci_no_cot\"] = responses[\"davinci_no_cot\"].apply(lambda x: x[0] if x else \"\")\n",
    "responses[\"davinci_cot\"] = df[\"davinci_cot\"].apply(lambda x: x.split(\". \")[-1])"
   ]
  },
  {
   "cell_type": "code",
   "execution_count": 14,
   "metadata": {},
   "outputs": [
    {
     "data": {
      "text/html": [
       "<div>\n",
       "<style scoped>\n",
       "    .dataframe tbody tr th:only-of-type {\n",
       "        vertical-align: middle;\n",
       "    }\n",
       "\n",
       "    .dataframe tbody tr th {\n",
       "        vertical-align: top;\n",
       "    }\n",
       "\n",
       "    .dataframe thead th {\n",
       "        text-align: right;\n",
       "    }\n",
       "</style>\n",
       "<table border=\"1\" class=\"dataframe\">\n",
       "  <thead>\n",
       "    <tr style=\"text-align: right;\">\n",
       "      <th></th>\n",
       "      <th>babbage_no_cot</th>\n",
       "      <th>babbage_cot</th>\n",
       "      <th>davinci_no_cot</th>\n",
       "      <th>davinci_cot</th>\n",
       "    </tr>\n",
       "  </thead>\n",
       "  <tbody>\n",
       "    <tr>\n",
       "      <th>0</th>\n",
       "      <td>The answer is 24.</td>\n",
       "      <td>The answer is 24.</td>\n",
       "      <td>The answer is 72.</td>\n",
       "      <td>In total, she sold 48 + 24 = 72 clips.</td>\n",
       "    </tr>\n",
       "    <tr>\n",
       "      <th>1</th>\n",
       "      <td>The answer is 5.</td>\n",
       "      <td>The answer is 550.</td>\n",
       "      <td>The answer is $6.</td>\n",
       "      <td>The answer is 10.</td>\n",
       "    </tr>\n",
       "    <tr>\n",
       "      <th>2</th>\n",
       "      <td>The answer is 20.</td>\n",
       "      <td>The answer is 50 dollars.</td>\n",
       "      <td>The answer is 25.</td>\n",
       "      <td>The answer is 55.</td>\n",
       "    </tr>\n",
       "    <tr>\n",
       "      <th>3</th>\n",
       "      <td>The answer is 24.</td>\n",
       "      <td>The answer is 108.</td>\n",
       "      <td>The answer is 60.</td>\n",
       "      <td>The answer is 48.</td>\n",
       "    </tr>\n",
       "    <tr>\n",
       "      <th>4</th>\n",
       "      <td>The answer is 52.</td>\n",
       "      <td>So James writes 10,000 pages a year.</td>\n",
       "      <td>The answer is 624.</td>\n",
       "      <td>So he writes 3 x 2 x 52 = 312 pages a year.</td>\n",
       "    </tr>\n",
       "    <tr>\n",
       "      <th>...</th>\n",
       "      <td>...</td>\n",
       "      <td>...</td>\n",
       "      <td>...</td>\n",
       "      <td>...</td>\n",
       "    </tr>\n",
       "    <tr>\n",
       "      <th>995</th>\n",
       "      <td>The answer is 65.</td>\n",
       "      <td>The answer is 34.</td>\n",
       "      <td>The answer is 22.</td>\n",
       "      <td>Anna was 58 when they got married.</td>\n",
       "    </tr>\n",
       "    <tr>\n",
       "      <th>996</th>\n",
       "      <td>The answer is  $63.</td>\n",
       "      <td>The answer is 70.</td>\n",
       "      <td>The answer is $116.</td>\n",
       "      <td>The answer is 99.8.</td>\n",
       "    </tr>\n",
       "    <tr>\n",
       "      <th>997</th>\n",
       "      <td>The answer is 10.</td>\n",
       "      <td>How many fish will each of them be given to e...</td>\n",
       "      <td>The answer is 5.</td>\n",
       "      <td>How many fish will each of them be given to e...</td>\n",
       "    </tr>\n",
       "    <tr>\n",
       "      <th>998</th>\n",
       "      <td>The answer is 5.</td>\n",
       "      <td>The answer is 6.</td>\n",
       "      <td>The answer is 37.5.</td>\n",
       "      <td>The answer is 37.4 minutes.</td>\n",
       "    </tr>\n",
       "    <tr>\n",
       "      <th>999</th>\n",
       "      <td>The answer is $3.</td>\n",
       "      <td>The answer is 100.</td>\n",
       "      <td>The answer is $5.</td>\n",
       "      <td>The answer is -40.</td>\n",
       "    </tr>\n",
       "  </tbody>\n",
       "</table>\n",
       "<p>1000 rows × 4 columns</p>\n",
       "</div>"
      ],
      "text/plain": [
       "          babbage_no_cot                                        babbage_cot  \\\n",
       "0      The answer is 24.                                  The answer is 24.   \n",
       "1       The answer is 5.                                 The answer is 550.   \n",
       "2      The answer is 20.                          The answer is 50 dollars.   \n",
       "3      The answer is 24.                                 The answer is 108.   \n",
       "4      The answer is 52.               So James writes 10,000 pages a year.   \n",
       "..                   ...                                                ...   \n",
       "995    The answer is 65.                                  The answer is 34.   \n",
       "996  The answer is  $63.                                  The answer is 70.   \n",
       "997    The answer is 10.   How many fish will each of them be given to e...   \n",
       "998     The answer is 5.                                   The answer is 6.   \n",
       "999    The answer is $3.                                 The answer is 100.   \n",
       "\n",
       "          davinci_no_cot                                        davinci_cot  \n",
       "0      The answer is 72.             In total, she sold 48 + 24 = 72 clips.  \n",
       "1      The answer is $6.                                  The answer is 10.  \n",
       "2      The answer is 25.                                  The answer is 55.  \n",
       "3      The answer is 60.                                  The answer is 48.  \n",
       "4     The answer is 624.        So he writes 3 x 2 x 52 = 312 pages a year.  \n",
       "..                   ...                                                ...  \n",
       "995    The answer is 22.                 Anna was 58 when they got married.  \n",
       "996  The answer is $116.                                The answer is 99.8.  \n",
       "997     The answer is 5.   How many fish will each of them be given to e...  \n",
       "998  The answer is 37.5.                        The answer is 37.4 minutes.  \n",
       "999    The answer is $5.                                 The answer is -40.  \n",
       "\n",
       "[1000 rows x 4 columns]"
      ]
     },
     "execution_count": 14,
     "metadata": {},
     "output_type": "execute_result"
    }
   ],
   "source": [
    "responses"
   ]
  },
  {
   "cell_type": "code",
   "execution_count": 27,
   "metadata": {},
   "outputs": [],
   "source": [
    "responses.to_csv('gpt_gsmk8_outputs.csv', index=False)"
   ]
  },
  {
   "cell_type": "code",
   "execution_count": 57,
   "metadata": {},
   "outputs": [],
   "source": [
    "df = pd.read_csv('gpt_gsmk8_outputs.csv')"
   ]
  },
  {
   "cell_type": "code",
   "execution_count": 15,
   "metadata": {},
   "outputs": [],
   "source": [
    "df = responses"
   ]
  },
  {
   "cell_type": "code",
   "execution_count": 18,
   "metadata": {},
   "outputs": [],
   "source": [
    "og_data = pd.read_csv('gsm8k.csv')"
   ]
  },
  {
   "cell_type": "code",
   "execution_count": 19,
   "metadata": {},
   "outputs": [],
   "source": [
    "og_data = og_data[:len(df)]"
   ]
  },
  {
   "cell_type": "code",
   "execution_count": 20,
   "metadata": {},
   "outputs": [],
   "source": [
    "df = og_data.join(df)"
   ]
  },
  {
   "cell_type": "code",
   "execution_count": 21,
   "metadata": {},
   "outputs": [],
   "source": [
    "answers = df[\"answer\"].str.findall(r\"#### (\\d+)$\").apply(lambda x: x[0] if len(x) != 0 else None)"
   ]
  },
  {
   "cell_type": "code",
   "execution_count": 22,
   "metadata": {},
   "outputs": [],
   "source": [
    "answers = answers.to_list()"
   ]
  },
  {
   "cell_type": "code",
   "execution_count": 30,
   "metadata": {},
   "outputs": [],
   "source": [
    "def compute_accuracy(df, no_cot_col, cot_col, answer_col):\n",
    "    no_cot_answers = df[no_cot_col].to_list()\n",
    "    cot_answers = df[cot_col].to_list()\n",
    "    answers = (\n",
    "        df[answer_col]\n",
    "        .str.findall(r\"#### (\\d+)$\")\n",
    "        .apply(lambda x: x[0] if len(x) != 0 else None)\n",
    "    )\n",
    "    answers = answers.to_list()\n",
    "    answers = zip(no_cot_answers, cot_answers, answers)\n",
    "    answers = list(answers)\n",
    "    answers = [[str(a[0]), str(a[1]), str(a[2])] for a in answers]\n",
    "    answers = [\n",
    "        [\n",
    "            re.findall(r\"[^1-9](\" + answer[2] + r\")[^1-9]\", answer[0]),\n",
    "            re.findall(r\"[^1-9](\" + answer[2] + r\")[^1-9]\", answer[1]),\n",
    "            answer[2],\n",
    "        ]\n",
    "        for answer in answers\n",
    "    ]\n",
    "    answers = [[len(answer[0]), len(answer[1]), answer[2]] for answer in answers]\n",
    "    no_cot = 0\n",
    "    cot = 0\n",
    "    for a, b, c in answers:\n",
    "        if a != 0:\n",
    "            no_cot += 1\n",
    "        if b != 0:\n",
    "            cot += 1\n",
    "\n",
    "    no_cot_percent = no_cot / len(answers) * 100\n",
    "    cot_percent = cot / len(answers) * 100\n",
    "\n",
    "    print(f\"No COT accuracy: {no_cot_percent}%\")\n",
    "    print(f\"COT accuracy: {cot_percent}%\")"
   ]
  },
  {
   "cell_type": "code",
   "execution_count": 31,
   "metadata": {},
   "outputs": [
    {
     "name": "stdout",
     "output_type": "stream",
     "text": [
      "No COT accuracy: 3.5000000000000004%\n",
      "COT accuracy: 3.4000000000000004%\n"
     ]
    }
   ],
   "source": [
    "compute_accuracy(df, \"babbage_no_cot\", \"babbage_cot\", \"answer\")"
   ]
  },
  {
   "cell_type": "code",
   "execution_count": 32,
   "metadata": {},
   "outputs": [
    {
     "name": "stdout",
     "output_type": "stream",
     "text": [
      "No COT accuracy: 12.6%\n",
      "COT accuracy: 36.199999999999996%\n"
     ]
    }
   ],
   "source": [
    "compute_accuracy(df, \"davinci_no_cot\", \"davinci_cot\", \"answer\")"
   ]
  }
 ],
 "metadata": {
  "kernelspec": {
   "display_name": "ml",
   "language": "python",
   "name": "python3"
  },
  "language_info": {
   "codemirror_mode": {
    "name": "ipython",
    "version": 3
   },
   "file_extension": ".py",
   "mimetype": "text/x-python",
   "name": "python",
   "nbconvert_exporter": "python",
   "pygments_lexer": "ipython3",
   "version": "3.11.0"
  }
 },
 "nbformat": 4,
 "nbformat_minor": 2
}
