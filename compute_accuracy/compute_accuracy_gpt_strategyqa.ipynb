{
 "cells": [
  {
   "cell_type": "code",
   "execution_count": 1,
   "metadata": {},
   "outputs": [],
   "source": [
    "from pathlib import Path\n",
    "import re\n",
    "import pandas as pd"
   ]
  },
  {
   "cell_type": "code",
   "execution_count": 2,
   "metadata": {},
   "outputs": [],
   "source": [
    "df = pd.read_csv(\"stratqa_with_gpt_responses.csv\")"
   ]
  },
  {
   "cell_type": "code",
   "execution_count": 5,
   "metadata": {},
   "outputs": [],
   "source": [
    "for col in df.columns:\n",
    "    df[col] = df[col].str.lower()"
   ]
  },
  {
   "cell_type": "code",
   "execution_count": 6,
   "metadata": {},
   "outputs": [
    {
     "data": {
      "text/html": [
       "<div>\n",
       "<style scoped>\n",
       "    .dataframe tbody tr th:only-of-type {\n",
       "        vertical-align: middle;\n",
       "    }\n",
       "\n",
       "    .dataframe tbody tr th {\n",
       "        vertical-align: top;\n",
       "    }\n",
       "\n",
       "    .dataframe thead th {\n",
       "        text-align: right;\n",
       "    }\n",
       "</style>\n",
       "<table border=\"1\" class=\"dataframe\">\n",
       "  <thead>\n",
       "    <tr style=\"text-align: right;\">\n",
       "      <th></th>\n",
       "      <th>question</th>\n",
       "      <th>answer</th>\n",
       "      <th>babbage_no_cot</th>\n",
       "      <th>babbage_cot</th>\n",
       "      <th>davinci_no_cot</th>\n",
       "      <th>davinci_cot</th>\n",
       "    </tr>\n",
       "  </thead>\n",
       "  <tbody>\n",
       "    <tr>\n",
       "      <th>0</th>\n",
       "      <td>are more people today related to genghis khan ...</td>\n",
       "      <td>yes</td>\n",
       "      <td>a: so the answer is yes.</td>\n",
       "      <td>a: no. genghis khan was the founder of the mon...</td>\n",
       "      <td>a: so the answer is yes.</td>\n",
       "      <td>a: genghis khan lived from 1162 to 1227. juliu...</td>\n",
       "    </tr>\n",
       "    <tr>\n",
       "      <th>1</th>\n",
       "      <td>could the members of the police perform lawful...</td>\n",
       "      <td>no</td>\n",
       "      <td>a: so the answer is no.</td>\n",
       "      <td>a: the police are a police force. police force...</td>\n",
       "      <td>a: so the answer is yes.</td>\n",
       "      <td>a: the members of the police are not members o...</td>\n",
       "    </tr>\n",
       "    <tr>\n",
       "      <th>2</th>\n",
       "      <td>would a monoamine oxidase candy bar cheer up a...</td>\n",
       "      <td>no</td>\n",
       "      <td>a: so the answer is no.</td>\n",
       "      <td>a: a monoamine oxidase candy bar is a candy ba...</td>\n",
       "      <td>a: so the answer is no.</td>\n",
       "      <td>a: a monoamine oxidase inhibitor is a type of ...</td>\n",
       "    </tr>\n",
       "    <tr>\n",
       "      <th>3</th>\n",
       "      <td>would a dog respond to bell before grey seal?</td>\n",
       "      <td>yes</td>\n",
       "      <td>a: so the answer is yes.</td>\n",
       "      <td>a: the dog would not respond to the bell befor...</td>\n",
       "      <td>a: so the answer is no.</td>\n",
       "      <td>a: a dog has a faster reaction time than a gre...</td>\n",
       "    </tr>\n",
       "    <tr>\n",
       "      <th>4</th>\n",
       "      <td>is a pound sterling valuable?</td>\n",
       "      <td>no</td>\n",
       "      <td>a: so the answer is yes.</td>\n",
       "      <td>a: the pound sterling is worth about $1.60. th...</td>\n",
       "      <td>a: so the answer is yes.</td>\n",
       "      <td>a: a pound sterling is a unit of currency. cur...</td>\n",
       "    </tr>\n",
       "  </tbody>\n",
       "</table>\n",
       "</div>"
      ],
      "text/plain": [
       "                                            question answer  \\\n",
       "0  are more people today related to genghis khan ...    yes   \n",
       "1  could the members of the police perform lawful...     no   \n",
       "2  would a monoamine oxidase candy bar cheer up a...     no   \n",
       "3      would a dog respond to bell before grey seal?    yes   \n",
       "4                      is a pound sterling valuable?     no   \n",
       "\n",
       "             babbage_no_cot  \\\n",
       "0  a: so the answer is yes.   \n",
       "1   a: so the answer is no.   \n",
       "2   a: so the answer is no.   \n",
       "3  a: so the answer is yes.   \n",
       "4  a: so the answer is yes.   \n",
       "\n",
       "                                         babbage_cot  \\\n",
       "0  a: no. genghis khan was the founder of the mon...   \n",
       "1  a: the police are a police force. police force...   \n",
       "2  a: a monoamine oxidase candy bar is a candy ba...   \n",
       "3  a: the dog would not respond to the bell befor...   \n",
       "4  a: the pound sterling is worth about $1.60. th...   \n",
       "\n",
       "             davinci_no_cot                                        davinci_cot  \n",
       "0  a: so the answer is yes.  a: genghis khan lived from 1162 to 1227. juliu...  \n",
       "1  a: so the answer is yes.  a: the members of the police are not members o...  \n",
       "2   a: so the answer is no.  a: a monoamine oxidase inhibitor is a type of ...  \n",
       "3   a: so the answer is no.  a: a dog has a faster reaction time than a gre...  \n",
       "4  a: so the answer is yes.  a: a pound sterling is a unit of currency. cur...  "
      ]
     },
     "execution_count": 6,
     "metadata": {},
     "output_type": "execute_result"
    }
   ],
   "source": [
    "df.head()"
   ]
  },
  {
   "cell_type": "code",
   "execution_count": 7,
   "metadata": {},
   "outputs": [],
   "source": [
    "def compute_accuracy(df, no_cot_col, cot_col, answer_col):\n",
    "    no_cot_answers = df[no_cot_col].to_list()\n",
    "    cot_answers = df[cot_col].to_list()\n",
    "    answers = df[answer_col].str.lower()\n",
    "    answers = answers.to_list()\n",
    "    answers = zip(no_cot_answers, cot_answers, answers)\n",
    "    answers = list(answers)\n",
    "    answers = [[str(a[0]), str(a[1]), str(a[2])] for a in answers]\n",
    "    answers = [\n",
    "        [\n",
    "            re.findall(answer[2], answer[0]),\n",
    "            re.findall(answer[2], answer[1]),\n",
    "            answer[2],\n",
    "        ]\n",
    "        for answer in answers\n",
    "    ]\n",
    "    answers = [[len(answer[0]), len(answer[1]), answer[2]] for answer in answers]\n",
    "    no_cot = 0\n",
    "    cot = 0\n",
    "    for a, b, c in answers:\n",
    "        if a != 0:\n",
    "            no_cot += 1\n",
    "        if b != 0:\n",
    "            cot += 1\n",
    "\n",
    "    no_cot_percent = no_cot / len(answers) * 100\n",
    "    cot_percent = cot / len(answers) * 100\n",
    "\n",
    "    print(f\"No COT accuracy: {no_cot_percent}%\")\n",
    "    print(f\"COT accuracy: {cot_percent}%\")"
   ]
  },
  {
   "cell_type": "code",
   "execution_count": 8,
   "metadata": {},
   "outputs": [
    {
     "name": "stdout",
     "output_type": "stream",
     "text": [
      "No COT accuracy: 48.8%\n",
      "COT accuracy: 56.49999999999999%\n"
     ]
    }
   ],
   "source": [
    "compute_accuracy(df, \"babbage_no_cot\", \"babbage_cot\", \"answer\")"
   ]
  },
  {
   "cell_type": "code",
   "execution_count": 10,
   "metadata": {},
   "outputs": [
    {
     "name": "stdout",
     "output_type": "stream",
     "text": [
      "No COT accuracy: 59.4%\n",
      "COT accuracy: 70.1%\n"
     ]
    }
   ],
   "source": [
    "compute_accuracy(df, \"davinci_no_cot\", \"davinci_cot\", \"answer\")"
   ]
  },
  {
   "cell_type": "code",
   "execution_count": null,
   "metadata": {},
   "outputs": [],
   "source": []
  }
 ],
 "metadata": {
  "kernelspec": {
   "display_name": "ml",
   "language": "python",
   "name": "python3"
  },
  "language_info": {
   "codemirror_mode": {
    "name": "ipython",
    "version": 3
   },
   "file_extension": ".py",
   "mimetype": "text/x-python",
   "name": "python",
   "nbconvert_exporter": "python",
   "pygments_lexer": "ipython3",
   "version": "3.11.0"
  }
 },
 "nbformat": 4,
 "nbformat_minor": 2
}
