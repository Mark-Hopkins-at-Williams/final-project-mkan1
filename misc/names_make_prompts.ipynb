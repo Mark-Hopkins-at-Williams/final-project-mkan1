{
 "cells": [
  {
   "cell_type": "code",
   "execution_count": 1,
   "metadata": {},
   "outputs": [],
   "source": [
    "import pandas as pd"
   ]
  },
  {
   "cell_type": "code",
   "execution_count": 2,
   "metadata": {},
   "outputs": [],
   "source": [
    "base_cot = \"\"\"Q: Take the last letters of the words in \"Elon Musk\" and concatenate them.\n",
    "A: The last letter of \"Elon\" is \"n\". The last letter of \"Musk\" is \"k\". Concatenating them is \"nk\". The answer is nk.\n",
    "Q: Take the last letters of the words in \"Larry Page\" and concatenate them.\n",
    "A: The last letter of \"Larry\" is \"y\". The last letter of \"Page\" is \"e\". Concatenating them is \"ye\". The answer is ye.\n",
    "Q: Take the last letters of the words in \"Sergey Brin\" and concatenate them.\n",
    "A: The last letter of \"Sergey\" is \"y\". The last letter of \"Brin\" is \"n\". Concatenating them is \"yn\". The answer is yn.\n",
    "Q: Take the last letters of the words in \"Bill Gates\" and concatenate them.\n",
    "A: The last letter of \"Bill\" is \"l\". The last letter of \"Gates\" is \"s\". Concatenating them is \"ls\". The answer is ls.\"\"\""
   ]
  },
  {
   "cell_type": "code",
   "execution_count": 3,
   "metadata": {},
   "outputs": [],
   "source": [
    "base_no_cot = \"\"\"Q: Take the last letters of the words in \"Elon Musk\" and concatenate them.\n",
    "A: The answer is nk.\n",
    "Q: Take the last letters of the words in \"Larry Page\" and concatenate them.\n",
    "A: The answer is ye.\n",
    "Q: Take the last letters of the words in \"Sergey Brin\" and concatenate them.\n",
    "A: The answer is yn.\n",
    "Q: Take the last letters of the words in \"Bill Gates\" and concatenate them.\n",
    "A: The answer is ls.\"\"\""
   ]
  },
  {
   "cell_type": "code",
   "execution_count": 9,
   "metadata": {},
   "outputs": [],
   "source": [
    "df = pd.read_csv(\"OOD_questions.csv\")"
   ]
  },
  {
   "cell_type": "code",
   "execution_count": 10,
   "metadata": {},
   "outputs": [],
   "source": [
    "df[\"no_cot\"] = base_no_cot + \"\\nQ: \" + df[\"question\"] + \"\\n\""
   ]
  },
  {
   "cell_type": "code",
   "execution_count": 11,
   "metadata": {},
   "outputs": [],
   "source": [
    "df[\"cot\"] = base_cot + \"\\nQ: \" + df[\"question\"] + \"\\n\""
   ]
  },
  {
   "cell_type": "code",
   "execution_count": 12,
   "metadata": {},
   "outputs": [],
   "source": [
    "df.to_csv(\"out_of_domain_names_with_prompts.csv\")"
   ]
  }
 ],
 "metadata": {
  "kernelspec": {
   "display_name": "ml",
   "language": "python",
   "name": "python3"
  },
  "language_info": {
   "codemirror_mode": {
    "name": "ipython",
    "version": 3
   },
   "file_extension": ".py",
   "mimetype": "text/x-python",
   "name": "python",
   "nbconvert_exporter": "python",
   "pygments_lexer": "ipython3",
   "version": "3.11.0"
  }
 },
 "nbformat": 4,
 "nbformat_minor": 2
}
